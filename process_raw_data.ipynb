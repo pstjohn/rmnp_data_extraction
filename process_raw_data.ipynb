{
 "cells": [
  {
   "cell_type": "code",
   "execution_count": 1,
   "metadata": {
    "collapsed": true
   },
   "outputs": [],
   "source": [
    "import numpy as np\n",
    "import pandas as pd\n",
    "\n",
    "import matplotlib.pyplot as plt\n",
    "import seaborn as sns\n",
    "sns.set_style('darkgrid')\n",
    "sns.set_context('talk', font_scale=1.5)\n",
    "sns.set(color_codes=True)\n",
    "\n",
    "%matplotlib inline"
   ]
  },
  {
   "cell_type": "code",
   "execution_count": 2,
   "metadata": {
    "collapsed": false
   },
   "outputs": [],
   "source": [
    "import csv\n",
    "import pandas as pd\n",
    "\n",
    "def get_weeks():\n",
    "    with open('rmnp_raw.csv', 'r') as csvfile:\n",
    "        csvreader = csv.reader(csvfile)\n",
    "        current_frame = []\n",
    "        for row in csvreader:\n",
    "            if row == ['', '', '', '', '', 'Sun', 'Mon', 'Tue', 'Wed', 'Thu', 'Fri', 'Sat']:\n",
    "                if current_frame:\n",
    "                    yield current_frame\n",
    "                current_frame = []\n",
    "            else:\n",
    "                current_frame += [row]\n",
    "            "
   ]
  },
  {
   "cell_type": "code",
   "execution_count": 3,
   "metadata": {
    "collapsed": false
   },
   "outputs": [],
   "source": [
    "dfs = [pd.DataFrame(iframe[1:], columns=iframe[0]).iloc[:, 5:] for iframe in get_weeks()]\n",
    "\n",
    "df_stacked = pd.concat(dfs, 1).T\n",
    "\n",
    "df_stacked.index = df_stacked.index.to_datetime()"
   ]
  },
  {
   "cell_type": "code",
   "execution_count": 4,
   "metadata": {
    "collapsed": false
   },
   "outputs": [
    {
     "data": {
      "text/html": [
       "<div>\n",
       "<table border=\"1\" class=\"dataframe\">\n",
       "  <thead>\n",
       "    <tr style=\"text-align: right;\">\n",
       "      <th></th>\n",
       "      <th>Code</th>\n",
       "      <th>Description</th>\n",
       "      <th>Distance</th>\n",
       "      <th>Elevation</th>\n",
       "      <th>SnowFreeDate</th>\n",
       "    </tr>\n",
       "  </thead>\n",
       "  <tbody>\n",
       "    <tr>\n",
       "      <th>0</th>\n",
       "      <td>040</td>\n",
       "      <td>Andrews Creek (Waste Bag)</td>\n",
       "      <td>3.6</td>\n",
       "      <td>10560</td>\n",
       "      <td>7/02</td>\n",
       "    </tr>\n",
       "    <tr>\n",
       "      <th>1</th>\n",
       "      <td>026</td>\n",
       "      <td>Arch Rock</td>\n",
       "      <td>1.6</td>\n",
       "      <td>8240</td>\n",
       "      <td>5/13</td>\n",
       "    </tr>\n",
       "    <tr>\n",
       "      <th>2</th>\n",
       "      <td>052IS</td>\n",
       "      <td>Aspen Knoll Llama</td>\n",
       "      <td>2.3</td>\n",
       "      <td>9400</td>\n",
       "      <td>5/26</td>\n",
       "    </tr>\n",
       "    <tr>\n",
       "      <th>3</th>\n",
       "      <td>005G</td>\n",
       "      <td>Aspen Meadow Group (WF)</td>\n",
       "      <td>5.9</td>\n",
       "      <td>9520</td>\n",
       "      <td>5/31</td>\n",
       "    </tr>\n",
       "    <tr>\n",
       "      <th>4</th>\n",
       "      <td>043G</td>\n",
       "      <td>Battle Mountain Group</td>\n",
       "      <td>2.8</td>\n",
       "      <td>11000</td>\n",
       "      <td>6/18</td>\n",
       "    </tr>\n",
       "  </tbody>\n",
       "</table>\n",
       "</div>"
      ],
      "text/plain": [
       "    Code                Description Distance Elevation SnowFreeDate\n",
       "0    040  Andrews Creek (Waste Bag)      3.6     10560         7/02\n",
       "1    026                  Arch Rock      1.6      8240         5/13\n",
       "2  052IS          Aspen Knoll Llama      2.3      9400         5/26\n",
       "3   005G    Aspen Meadow Group (WF)      5.9      9520         5/31\n",
       "4   043G      Battle Mountain Group      2.8     11000         6/18"
      ]
     },
     "execution_count": 4,
     "metadata": {},
     "output_type": "execute_result"
    }
   ],
   "source": [
    "iframe = next(get_weeks())\n",
    "site_details = pd.DataFrame(iframe[1:], columns=iframe[0]).iloc[:, :5]\n",
    "site_details.columns = ['Code', 'Description', 'Distance', 'Elevation', 'SnowFreeDate']\n",
    "#site_details['Code'] = site_details.Code.apply(lambda x: x[:3])\n",
    "site_details.head()"
   ]
  },
  {
   "cell_type": "code",
   "execution_count": 5,
   "metadata": {
    "collapsed": false
   },
   "outputs": [
    {
     "data": {
      "text/html": [
       "<div>\n",
       "<table border=\"1\" class=\"dataframe\">\n",
       "  <thead>\n",
       "    <tr style=\"text-align: right;\">\n",
       "      <th></th>\n",
       "      <th>Code</th>\n",
       "      <th>Description</th>\n",
       "      <th>SnowFreeDate</th>\n",
       "      <th>NumSites</th>\n",
       "      <th>Distance</th>\n",
       "      <th>Elevation</th>\n",
       "      <th>ElevationGain</th>\n",
       "      <th>Privy</th>\n",
       "    </tr>\n",
       "  </thead>\n",
       "  <tbody>\n",
       "    <tr>\n",
       "      <th>0</th>\n",
       "      <td>NaN</td>\n",
       "      <td>Dunraven Trailhead</td>\n",
       "      <td>NaN</td>\n",
       "      <td>NaN</td>\n",
       "      <td>NaN</td>\n",
       "      <td>7960</td>\n",
       "      <td>NaN</td>\n",
       "      <td>NaN</td>\n",
       "    </tr>\n",
       "    <tr>\n",
       "      <th>1</th>\n",
       "      <td>001</td>\n",
       "      <td>Boundary Creek</td>\n",
       "      <td>6/2</td>\n",
       "      <td>2.0</td>\n",
       "      <td>4.6</td>\n",
       "      <td>9120</td>\n",
       "      <td>1160.0</td>\n",
       "      <td>Yes</td>\n",
       "    </tr>\n",
       "    <tr>\n",
       "      <th>2</th>\n",
       "      <td>002</td>\n",
       "      <td>Kettle Tarn</td>\n",
       "      <td>CLOSED</td>\n",
       "      <td>NaN</td>\n",
       "      <td>NaN</td>\n",
       "      <td>NaN</td>\n",
       "      <td>NaN</td>\n",
       "      <td>NaN</td>\n",
       "    </tr>\n",
       "    <tr>\n",
       "      <th>3</th>\n",
       "      <td>003</td>\n",
       "      <td>Silvanmere</td>\n",
       "      <td>6/4</td>\n",
       "      <td>2.0</td>\n",
       "      <td>5.6</td>\n",
       "      <td>9360</td>\n",
       "      <td>1400.0</td>\n",
       "      <td>No</td>\n",
       "    </tr>\n",
       "    <tr>\n",
       "      <th>4</th>\n",
       "      <td>004</td>\n",
       "      <td>Halfway</td>\n",
       "      <td>6/2</td>\n",
       "      <td>1.0</td>\n",
       "      <td>5.6</td>\n",
       "      <td>9340</td>\n",
       "      <td>1380.0</td>\n",
       "      <td>Yes</td>\n",
       "    </tr>\n",
       "  </tbody>\n",
       "</table>\n",
       "</div>"
      ],
      "text/plain": [
       "  Code         Description SnowFreeDate  NumSites  Distance Elevation  \\\n",
       "0  NaN  Dunraven Trailhead          NaN       NaN       NaN      7960   \n",
       "1  001      Boundary Creek          6/2       2.0       4.6      9120   \n",
       "2  002         Kettle Tarn       CLOSED       NaN       NaN       NaN   \n",
       "3  003          Silvanmere          6/4       2.0       5.6      9360   \n",
       "4  004             Halfway          6/2       1.0       5.6      9340   \n",
       "\n",
       "   ElevationGain Privy  \n",
       "0            NaN   NaN  \n",
       "1         1160.0   Yes  \n",
       "2            NaN   NaN  \n",
       "3         1400.0    No  \n",
       "4         1380.0   Yes  "
      ]
     },
     "execution_count": 5,
     "metadata": {},
     "output_type": "execute_result"
    }
   ],
   "source": [
    "def process_code(code):\n",
    "    try:\n",
    "        return '{:03d}'.format(int(code))\n",
    "    except ValueError:\n",
    "        return code\n",
    "\n",
    "html_details = pd.read_html('https://www.nps.gov/romo/planyourvisit/site_details.htm', header=0)\n",
    "site_details_html = pd.concat(html_details[4:], 0)\n",
    "site_details_html['Site Name'] = site_details_html['Site Name'].str.strip('*')\n",
    "site_details_html['Site Code'] = site_details_html['Site Code'].apply(process_code)\n",
    "site_details_html.head()\n",
    "site_details_html.columns = ['Code', 'Description', 'SnowFreeDate', 'NumSites',\n",
    "                             'Distance', 'Elevation', 'ElevationGain', 'Privy']\n",
    "\n",
    "def format_group_code(row):\n",
    "    code = row.Code\n",
    "    if 'Group' in row.Description:\n",
    "        code += 'G'\n",
    "    if ('Stock' in row.Description) | ('Stk' in row.Description):\n",
    "        code += 'S'\n",
    "    return code\n",
    "\n",
    "site_details_html.head()"
   ]
  },
  {
   "cell_type": "code",
   "execution_count": 6,
   "metadata": {
    "collapsed": false
   },
   "outputs": [
    {
     "data": {
      "text/html": [
       "<div>\n",
       "<table border=\"1\" class=\"dataframe\">\n",
       "  <thead>\n",
       "    <tr style=\"text-align: right;\">\n",
       "      <th></th>\n",
       "      <th>Code</th>\n",
       "      <th>Description</th>\n",
       "      <th>Distance</th>\n",
       "      <th>Elevation</th>\n",
       "      <th>SnowFreeDate</th>\n",
       "      <th>ElevationGain</th>\n",
       "      <th>Privy</th>\n",
       "    </tr>\n",
       "  </thead>\n",
       "  <tbody>\n",
       "    <tr>\n",
       "      <th>0</th>\n",
       "      <td>040</td>\n",
       "      <td>Andrews Creek (Waste Bag)</td>\n",
       "      <td>3.6</td>\n",
       "      <td>10560</td>\n",
       "      <td>7/02</td>\n",
       "      <td>1320.0</td>\n",
       "      <td>RES2</td>\n",
       "    </tr>\n",
       "    <tr>\n",
       "      <th>1</th>\n",
       "      <td>026</td>\n",
       "      <td>Arch Rock</td>\n",
       "      <td>1.6</td>\n",
       "      <td>8240</td>\n",
       "      <td>5/13</td>\n",
       "      <td>90.0</td>\n",
       "      <td>No</td>\n",
       "    </tr>\n",
       "    <tr>\n",
       "      <th>2</th>\n",
       "      <td>052IS</td>\n",
       "      <td>Aspen Knoll Llama</td>\n",
       "      <td>2.3</td>\n",
       "      <td>9400</td>\n",
       "      <td>5/26</td>\n",
       "      <td>900.0</td>\n",
       "      <td>No</td>\n",
       "    </tr>\n",
       "    <tr>\n",
       "      <th>3</th>\n",
       "      <td>005G</td>\n",
       "      <td>Aspen Meadow Group (WF)</td>\n",
       "      <td>5.9</td>\n",
       "      <td>9520</td>\n",
       "      <td>5/31</td>\n",
       "      <td>1560.0</td>\n",
       "      <td>Yes</td>\n",
       "    </tr>\n",
       "    <tr>\n",
       "      <th>4</th>\n",
       "      <td>043G</td>\n",
       "      <td>Battle Mountain Group</td>\n",
       "      <td>2.8</td>\n",
       "      <td>11000</td>\n",
       "      <td>6/18</td>\n",
       "      <td>1600.0</td>\n",
       "      <td>Yes</td>\n",
       "    </tr>\n",
       "  </tbody>\n",
       "</table>\n",
       "</div>"
      ],
      "text/plain": [
       "    Code                Description Distance Elevation SnowFreeDate  \\\n",
       "0    040  Andrews Creek (Waste Bag)      3.6     10560         7/02   \n",
       "1    026                  Arch Rock      1.6      8240         5/13   \n",
       "2  052IS          Aspen Knoll Llama      2.3      9400         5/26   \n",
       "3   005G    Aspen Meadow Group (WF)      5.9      9520         5/31   \n",
       "4   043G      Battle Mountain Group      2.8     11000         6/18   \n",
       "\n",
       "   ElevationGain Privy  \n",
       "0         1320.0  RES2  \n",
       "1           90.0    No  \n",
       "2          900.0    No  \n",
       "3         1560.0   Yes  \n",
       "4         1600.0   Yes  "
      ]
     },
     "execution_count": 6,
     "metadata": {},
     "output_type": "execute_result"
    }
   ],
   "source": [
    "code_lookup = site_details_html.drop_duplicates(subset='Code')\n",
    "code_lookup.set_index('Code', inplace=True)\n",
    "\n",
    "def get_details(code):\n",
    "    try:\n",
    "        row = code_lookup.loc[code[:3]]\n",
    "        \n",
    "        return pd.Series(\n",
    "            {'Code': code,\n",
    "             'ElevationGain': row.ElevationGain,\n",
    "             'Privy': row.Privy})\n",
    "\n",
    "    except KeyError:\n",
    "        return pd.Series({'Code' : code})\n",
    "    \n",
    "sites = site_details.merge(site_details.Code.apply(get_details), on='Code')\n",
    "sites.head()"
   ]
  },
  {
   "cell_type": "code",
   "execution_count": 7,
   "metadata": {
    "collapsed": false
   },
   "outputs": [],
   "source": [
    "df_stacked.columns = sites.Code\n",
    "\n",
    "availability = df_stacked\\\n",
    "    .applymap(lambda x: x if x != 'FULL' else 0)\\\n",
    "    .applymap(lambda x: x if x != 'NA' else pd.np.nan)\\\n",
    "    .dropna(1).astype(int)\n",
    "\n",
    "# Here i'm assuming no site is completely booked\n",
    "max_availability = availability.max(0)"
   ]
  },
  {
   "cell_type": "code",
   "execution_count": 8,
   "metadata": {
    "collapsed": false
   },
   "outputs": [
    {
     "data": {
      "text/plain": [
       "<matplotlib.axes._subplots.AxesSubplot at 0x114d67320>"
      ]
     },
     "execution_count": 8,
     "metadata": {},
     "output_type": "execute_result"
    },
    {
     "data": {
      "image/png": "[encoded data removed]",
      "text/plain": [
       "<matplotlib.figure.Figure at 0x114d66400>"
      ]
     },
     "metadata": {},
     "output_type": "display_data"
    }
   ],
   "source": [
    "availability.sum(0).plot.bar()"
   ]
  },
  {
   "cell_type": "code",
   "execution_count": 14,
   "metadata": {
    "collapsed": false
   },
   "outputs": [],
   "source": [
    "sites = sites.set_index('Code')\n",
    "sites['MaxNum'] = max_availability"
   ]
  },
  {
   "cell_type": "code",
   "execution_count": 17,
   "metadata": {
    "collapsed": false
   },
   "outputs": [],
   "source": [
    "sites.loc[availability.columns].to_csv('sites.csv')"
   ]
  },
  {
   "cell_type": "code",
   "execution_count": 18,
   "metadata": {
    "collapsed": true
   },
   "outputs": [],
   "source": [
    "availability.to_csv('availability.csv')"
   ]
  }
 ],
 "metadata": {
  "kernelspec": {
   "display_name": "Python 3",
   "language": "python",
   "name": "python3"
  },
  "language_info": {
   "codemirror_mode": {
    "name": "ipython",
    "version": 3
   },
   "file_extension": ".py",
   "mimetype": "text/x-python",
   "name": "python",
   "nbconvert_exporter": "python",
   "pygments_lexer": "ipython3",
   "version": "3.5.1"
  }
 },
 "nbformat": 4,
 "nbformat_minor": 0
}
